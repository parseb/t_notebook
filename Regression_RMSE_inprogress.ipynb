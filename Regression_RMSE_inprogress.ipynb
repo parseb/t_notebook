{
 "cells": [
  {
   "cell_type": "markdown",
   "metadata": {},
   "source": [
    " <img src=\"https://media.giphy.com/media/svaPNsT31Oec0/giphy.gif\" alt=\"deerinheadlightssearch\"></img>\n",
    "    \n",
    "\n",
    "<h3>Assumptions</h3>\n",
    "Understanding terms:\n"
   ]
  },
  {
   "cell_type": "code",
   "execution_count": null,
   "metadata": {},
   "outputs": [],
   "source": [
    "# Continous variables, as opposed to discrete or categorical variables. \n",
    "\n",
    "# Variables that can manifest in a not (pre)defined number of instances. \n",
    "# within the bounds of a limited plane of possibility. \n",
    "# Ex: A variable that can take any value Beteen 0 and 3. X= {0.43, 2.54, 1.01, 2.00} "
   ]
  },
  {
   "cell_type": "code",
   "execution_count": null,
   "metadata": {},
   "outputs": [],
   "source": [
    "#  RMSD is a measure of accuracy, to compare forecasting errors of different models \n",
    "#  for a particular dataset [...] it is scale-dependent.[1] (Wikipedia)\n"
   ]
  },
  {
   "cell_type": "code",
   "execution_count": null,
   "metadata": {},
   "outputs": [],
   "source": [
    "\n",
    "\n",
    "\n",
    "\n"
   ]
  },
  {
   "cell_type": "code",
   "execution_count": null,
   "metadata": {},
   "outputs": [],
   "source": [
    "\n",
    "import matplotlib.pyplot as plt\n",
    "import numpy as np\n",
    "from sklearn import datasets, linear_model\n",
    "from sklearn.metrics import mean_squared_error, r2_score\n",
    "\n",
    "# Load the diabetes dataset\n",
    "diabetes = datasets.load_diabetes()\n",
    "\n",
    "\n",
    "# Use only one feature\n",
    "diabetes_X = diabetes.data[:, np.newaxis, 2]\n",
    "\n",
    "# Split the data into training/testing sets\n",
    "diabetes_X_train = diabetes_X[:-20]\n",
    "diabetes_X_test = diabetes_X[-20:]\n",
    "\n",
    "# Split the targets into training/testing sets\n",
    "diabetes_y_train = diabetes.target[:-20]\n",
    "diabetes_y_test = diabetes.target[-20:]\n",
    "\n",
    "print(diabetes_y_train)"
   ]
  },
  {
   "cell_type": "code",
   "execution_count": null,
   "metadata": {},
   "outputs": [],
   "source": [
    "# Create linear regression object\n",
    "regr = linear_model.LinearRegression()\n",
    "\n",
    "# Train the model using the training sets\n",
    "regr.fit(diabetes_X_train, diabetes_y_train)\n",
    "\n",
    "# Make predictions using the testing set\n",
    "diabetes_y_pred = regr.predict(diabetes_X_test)\n",
    "\n",
    "# The coefficients\n",
    "print('Coefficients: \\n', regr.coef_)\n",
    "\n",
    "# The mean squared error\n",
    "print(\"Mean squared error: %.2f\"\n",
    "      % mean_squared_error(diabetes_y_test, diabetes_y_pred))\n",
    "\n",
    "####################################################################\n",
    "from math import sqrt\n",
    "\n",
    "RMSE= sqrt(mean_squared_error(diabetes_y_test, diabetes_y_pred))\n",
    "\n",
    "print(\"Root MSE --- \" +str(RMSE))\n",
    "\n",
    "\n",
    "interc= \"Intercept:\" + str(regr.intercept_) \n",
    "print(interc)\n",
    "\n",
    "####################################################################\n",
    "\n",
    "# Explained variance score: 1 is perfect prediction\n",
    "print('Variance score: %.2f' % r2_score(diabetes_y_test, diabetes_y_pred))\n",
    "\n",
    "# Plot outputs\n",
    "plt.scatter(diabetes_X_test, diabetes_y_test,  color='black')\n",
    "plt.plot(diabetes_X_test, diabetes_y_pred, color='blue', linewidth=3)\n",
    "\n",
    "plt.xticks(())\n",
    "plt.yticks(())\n",
    "\n",
    "plt.show()"
   ]
  },
  {
   "cell_type": "code",
   "execution_count": null,
   "metadata": {},
   "outputs": [],
   "source": [
    "diabetes_y_pred"
   ]
  },
  {
   "cell_type": "code",
   "execution_count": null,
   "metadata": {},
   "outputs": [],
   "source": [
    "if (RMSE == sqrt(1- r2_score(diabetes_y_test, diabetes_y_pred)) * np.std(diabetes_y_pred)):\n",
    "    print(\"True, RMSE {} is equal to sqrt[(1 - Rˆ2)]*[sdev(y)]\".format(RMSE))\n",
    "else:\n",
    "    print(str(RMSE)+\" Not Equal to \"+str(sqrt(1- r2_score(diabetes_y_test, diabetes_y_pred))))"
   ]
  },
  {
   "cell_type": "code",
   "execution_count": null,
   "metadata": {},
   "outputs": [],
   "source": [
    "RMSE"
   ]
  },
  {
   "cell_type": "code",
   "execution_count": null,
   "metadata": {},
   "outputs": [],
   "source": []
  },
  {
   "cell_type": "code",
   "execution_count": null,
   "metadata": {},
   "outputs": [],
   "source": [
    "sqrt(1 - r2_score(diabetes_y_test, diabetes_y_pred))"
   ]
  },
  {
   "cell_type": "code",
   "execution_count": null,
   "metadata": {},
   "outputs": [],
   "source": []
  },
  {
   "cell_type": "markdown",
   "metadata": {},
   "source": [
    "<h6>Source of Confusion - RMSE</h6>\n",
    "<a href=\"http://statweb.stanford.edu/~susan/courses/s60/split/node60.html\"> Susan Holmes. 2000. Stanford</a>"
   ]
  },
  {
   "cell_type": "code",
   "execution_count": null,
   "metadata": {},
   "outputs": [],
   "source": [
    "# Looking for confirmation RMSE\n",
    "# src: https://www.includehelp.com/ml-ai/root-mean-square%20error-rmse.aspx\n",
    "\n",
    "rss=((diabetes_y_test-diabetes_y_pred)**2).sum()\n",
    "mse=np.mean((diabetes_y_test-diabetes_y_pred)**2)\n",
    "print(\"Final rmse value is =\",np.sqrt(np.mean((diabetes_y_test-diabetes_y_pred)**2)))"
   ]
  },
  {
   "cell_type": "code",
   "execution_count": null,
   "metadata": {},
   "outputs": [],
   "source": []
  },
  {
   "cell_type": "markdown",
   "metadata": {},
   "source": [
    "<h3>Possible explanation<h3>"
   ]
  },
  {
   "cell_type": "markdown",
   "metadata": {},
   "source": [
    "<p><b>\"There are several definitions of R2 that are only sometimes equivalent. One class of such cases includes that of simple linear regression where r2 is used instead of R2. When an intercept is included, then r2 is simply the square of the sample correlation coefficient (i.e., r) between the observed outcomes and the observed predictor values.\"</b></p><br /> (<a href= \"https://en.wikipedia.org/wiki/Coefficient_of_determination\"><i>Coefficient of Determination</i></a>, Wikipedia)</h6> "
   ]
  },
  {
   "cell_type": "code",
   "execution_count": null,
   "metadata": {},
   "outputs": [],
   "source": [
    "\n",
    "import matplotlib.pyplot as plt\n",
    "import numpy as np\n",
    "from sklearn import datasets, linear_model\n",
    "from sklearn.metrics import mean_squared_error, r2_score\n",
    "\n",
    "# Load the diabetes dataset\n",
    "diabetes = datasets.load_diabetes()\n",
    "\n",
    "\n",
    "# Use only one feature\n",
    "diabetes_X = diabetes.data[:, np.newaxis, 2]\n",
    "\n",
    "# Split the data into training/testing sets\n",
    "diabetes_X_train = diabetes_X[:-20]\n",
    "diabetes_X_test = diabetes_X[-20:]\n",
    "\n",
    "# Split the targets into training/testing sets\n",
    "diabetes_y_train = diabetes.target[:-20]\n",
    "diabetes_y_test = diabetes.target[-20:]\n",
    "\n",
    "#print(diabetes_y_train)\n",
    "\n",
    "# Create linear regression object\n",
    "regr = linear_model.LinearRegression(normalize=False)\n",
    "\n",
    "# Train the model using the training sets\n",
    "regr.fit(diabetes_X_train, diabetes_y_train)\n",
    "\n",
    "# Make predictions using the testing set\n",
    "diabetes_y_pred = regr.predict(diabetes_X_test)\n",
    "\n",
    "# The coefficients\n",
    "print('Coefficients: \\n', regr.coef_)\n",
    "\n",
    "# The mean squared error\n",
    "print(\"Mean squared error: %.2f\"\n",
    "      % mean_squared_error(diabetes_y_test, diabetes_y_pred))\n",
    "\n",
    "####################################################################\n",
    "from math import sqrt\n",
    "\n",
    "RMSE= sqrt(mean_squared_error(diabetes_y_test, diabetes_y_pred))\n",
    "\n",
    "print(\"Root MSE --- \" +str(RMSE))\n",
    "\n",
    "\n",
    "interc= \"Intercept:\" + str(regr.intercept_) \n",
    "print(interc)\n",
    "\n",
    "####################################################################\n",
    "\n",
    "# Explained variance score: 1 is perfect prediction\n",
    "print('Variance score: %.2f' % r2_score(diabetes_y_test, diabetes_y_pred))\n",
    "\n",
    "# Plot outputs\n",
    "plt.scatter(diabetes_X_test, diabetes_y_test,  color='black')\n",
    "plt.plot(diabetes_X_test, diabetes_y_pred, color='blue', linewidth=3)\n",
    "\n",
    "plt.xticks(())\n",
    "plt.yticks(())\n",
    "\n",
    "plt.show()\n",
    "\n",
    "if (RMSE == sqrt(1- r2_score(diabetes_y_test, diabetes_y_pred)) * np.std(diabetes_y_pred)):\n",
    "    print(\"True, RMSE {} is equal to sqrt[(1 - Rˆ2)]*[sdev(y)]\".format(RMSE))\n",
    "else:\n",
    "    print(str(RMSE)+\" Not Equal to \"+str(sqrt(1- r2_score(diabetes_y_test, diabetes_y_pred))))"
   ]
  },
  {
   "cell_type": "code",
   "execution_count": null,
   "metadata": {},
   "outputs": [],
   "source": [
    "#Not linear regression..... not that one that I do not want, hopefully. Logistic regression, sigmoid activation.\n",
    "#https://scikit-learn.org/stable/tutorial/statistical_inference/supervised_learning.html\n",
    "\n",
    "import numpy as np\n",
    "from sklearn import datasets\n",
    "iris = datasets.load_iris()\n",
    "iris_X = iris.data\n",
    "iris_y = iris.target\n",
    "np.unique(iris_y)\n",
    "\n",
    "np.random.seed(0)\n",
    "indices = np.random.permutation(len(iris_X))\n",
    "iris_X_train = iris_X[indices[:-10]]\n",
    "iris_y_train = iris_y[indices[:-10]]\n",
    "iris_X_test = iris_X[indices[-10:]]\n",
    "iris_y_test = iris_y[indices[-10:]]\n",
    "\n",
    "\n",
    "log = linear_model.LogisticRegression(solver='lbfgs', C=1e5, multi_class='multinomial').fit(iris_X_train, iris_y_train) \n",
    "\n",
    "\n",
    "#\n",
    "\n",
    "y_pred= log.predict(iris_X_test)\n"
   ]
  },
  {
   "cell_type": "code",
   "execution_count": null,
   "metadata": {},
   "outputs": [],
   "source": [
    "RMSE= sqrt(mean_squared_error(iris_y_test, y_pred))"
   ]
  },
  {
   "cell_type": "code",
   "execution_count": null,
   "metadata": {},
   "outputs": [],
   "source": [
    "y_pred"
   ]
  },
  {
   "cell_type": "code",
   "execution_count": null,
   "metadata": {},
   "outputs": [],
   "source": [
    "if (RMSE == sqrt(1- r2_score(diabetes_y_test, diabetes_y_pred)) * np.std(diabetes_y_pred)):\n",
    "    print(\"True, RMSE {} is equal to sqrt[(1 - Rˆ2)]*[sdev(y)]\".format(RMSE))\n",
    "else:\n",
    "    print(str(RMSE)+\" Not Equal to \"+str(sqrt(1- r2_score(iris_y_test, y_pred))))"
   ]
  },
  {
   "cell_type": "code",
   "execution_count": null,
   "metadata": {},
   "outputs": [],
   "source": [
    "# ok, classification, classes, 3 types of irises, not continous. I ignored this because I ran a few days ago a Sequential\n",
    "# model în Keras where y were not continous, nor predefined classes and the output seemed continous... probably because I\n",
    "# did not know how to transpose it to y_train dataframe format. The ouputs did not correlate with the ground truth so I did\n",
    "# not learn it at the time. Anyway, since we're here: "
   ]
  },
  {
   "cell_type": "markdown",
   "metadata": {},
   "source": [
    "<p>Hours Later...</p>"
   ]
  },
  {
   "cell_type": "code",
   "execution_count": null,
   "metadata": {},
   "outputs": [],
   "source": [
    "from sklearn.ensemble import RandomForestRegressor\n",
    "from sklearn.datasets import make_regression\n",
    "\n",
    "X, y = make_regression(n_features=4, n_informative=2, random_state=0, shuffle=False)\n",
    "regr = RandomForestRegressor(max_depth=2, random_state=0,\n",
    "                              n_estimators=100)\n",
    "X_train= X[20:]\n",
    "Y_train= y[20:]\n",
    "\n",
    "X_test= X[:20] \n",
    "Y_test=y[:20]\n",
    "\n",
    "regr.fit(X, y)  \n",
    "RandomForestRegressor(bootstrap=True, criterion='mse', max_depth=2,\n",
    "           max_features='auto', max_leaf_nodes=None,\n",
    "           min_impurity_decrease=0.0, min_impurity_split=None,\n",
    "           min_samples_leaf=1, min_samples_split=2,\n",
    "           min_weight_fraction_leaf=0.0, n_estimators=100, n_jobs=None,\n",
    "           oob_score=False, random_state=0, verbose=0, warm_start=False)\n",
    "\n",
    "\n",
    "print(regr.feature_importances_)\n",
    "\n",
    "print(regr.predict([[0, 0, 0, 0]]))"
   ]
  },
  {
   "cell_type": "code",
   "execution_count": null,
   "metadata": {},
   "outputs": [],
   "source": [
    "y_pred= regr.predict(X_test)"
   ]
  },
  {
   "cell_type": "code",
   "execution_count": null,
   "metadata": {},
   "outputs": [],
   "source": [
    "RMSE=sqrt(mean_squared_error(Y_test, y_pred))\n",
    "\n",
    "if (RMSE == sqrt(1- r2_score(Y_test, y_pred)) * np.std(y_pred)):\n",
    "    print(\"True, RMSE {} is equal to sqrt[(1 - Rˆ2)]*[sdev(y)]\".format(RMSE))\n",
    "else:\n",
    "    print(str(RMSE)+\" Not Equal to \"+str(sqrt(1- r2_score(Y_test, y_pred))))"
   ]
  },
  {
   "cell_type": "markdown",
   "metadata": {},
   "source": [
    "<h4>Probably False Negative</h4>"
   ]
  },
  {
   "cell_type": "code",
   "execution_count": null,
   "metadata": {},
   "outputs": [],
   "source": []
  }
 ],
 "metadata": {
  "kernelspec": {
   "display_name": "Python 3",
   "language": "python",
   "name": "python3"
  },
  "language_info": {
   "codemirror_mode": {
    "name": "ipython",
    "version": 3
   },
   "file_extension": ".py",
   "mimetype": "text/x-python",
   "name": "python",
   "nbconvert_exporter": "python",
   "pygments_lexer": "ipython3",
   "version": "3.6.8"
  }
 },
 "nbformat": 4,
 "nbformat_minor": 2
}
